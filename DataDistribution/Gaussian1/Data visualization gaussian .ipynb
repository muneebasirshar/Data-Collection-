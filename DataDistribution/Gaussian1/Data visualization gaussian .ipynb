{
 "cells": [
  {
   "cell_type": "code",
   "execution_count": 66,
   "metadata": {},
   "outputs": [],
   "source": [
    "import numpy as np \n",
    "import pandas as pd \n",
    "import matplotlib.pyplot as plt \n",
    "DataFile = pd.read_csv('C:/Users/muneeba/Desktop/THESIS/DataDistribution/Gaussian3/DataDistributionPCA.csv')\n",
    "X=DataFile.iloc[:,0] # sensor IDs\n",
    "X=X[:64]\n",
    "Y1=pd.read_csv('C:/Users/muneeba/Desktop/THESIS/DataDistribution/Gaussian1/Gaussian1.csv')\n",
    "Y1=Y1[:64]\n",
    "Y1=Y1.iloc[:,0:64]"
   ]
  },
  {
   "cell_type": "code",
   "execution_count": 67,
   "metadata": {},
   "outputs": [],
   "source": [
    "Y=np.mean(Y1,axis=0) #since we have a large time span we find mean for each sensor\n",
    " "
   ]
  },
  {
   "cell_type": "code",
   "execution_count": 68,
   "metadata": {},
   "outputs": [
    {
     "data": {
      "image/png": "[encoded data removed]",
      "text/plain": [
       "<matplotlib.figure.Figure at 0x4e1de2de80>"
      ]
     },
     "metadata": {},
     "output_type": "display_data"
    }
   ],
   "source": [
    "# Visualize our dataset\n",
    "plt.scatter(X, Y,  color='blue')\n",
    "plt.xlabel('ID of the sensors')\n",
    "plt.ylabel('Mean Values')\n",
    "plt.title('Data Distribution of Sensors Data')\n",
    "plt.savefig('Data Mean Distribution')\n",
    "plt.show()"
   ]
  },
  {
   "cell_type": "code",
   "execution_count": null,
   "metadata": {},
   "outputs": [],
   "source": []
  },
  {
   "cell_type": "code",
   "execution_count": null,
   "metadata": {
    "collapsed": true
   },
   "outputs": [],
   "source": []
  }
 ],
 "metadata": {
  "kernelspec": {
   "display_name": "Python 3",
   "language": "python",
   "name": "python3"
  },
  "language_info": {
   "codemirror_mode": {
    "name": "ipython",
    "version": 3
   },
   "file_extension": ".py",
   "mimetype": "text/x-python",
   "name": "python",
   "nbconvert_exporter": "python",
   "pygments_lexer": "ipython3",
   "version": "3.6.3"
  }
 },
 "nbformat": 4,
 "nbformat_minor": 2
}
