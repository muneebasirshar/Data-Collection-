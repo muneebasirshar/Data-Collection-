{
 "cells": [
  {
   "cell_type": "code",
   "execution_count": 65,
   "metadata": {
    "collapsed": true
   },
   "outputs": [],
   "source": [
    "import math as mt\n",
    "import numpy as np\n",
    "import matplotlib.pyplot as plt\n",
    "\n",
    "#distribution parameters\n",
    "mu1 = np.array([3, 2]).reshape(-1,1)\n",
    "Sigma1 = np.array([[10 , 2], [2,  9]]).T\n",
    "mu2=np.array([8,14]).reshape(-1,1)\n",
    "Sigma2=np.array([[8,2],[2,10]]).T\n",
    "\n",
    "\n",
    "\n",
    "#location of Sensor\n",
    "loc=np.array([15,15]).reshape(-1,1)\n",
    "\n",
    "\n",
    "#calculation of Gaussian Function for given sensor location\n",
    "# First Gaussian\n",
    "dif1=loc-mu1\n",
    "dif_transpose1=dif1.reshape(1,-1)\n",
    "Sigma_det1 = np.linalg.det(Sigma1)\n",
    "Sigma_inv1 = np.linalg.inv(Sigma1)\n",
    "D1 = np.sqrt((2*np.pi)**2 * Sigma_det1)\n",
    "fac1_1=np.matmul(dif_transpose1,Sigma_inv1)\n",
    "fac2_1=np.matmul(fac1_1,dif1)\n",
    "value1=np.exp(-fac2_1/2)/D1\n",
    "# Second Gaussian\n",
    "dif2=loc-mu2\n",
    "dif_transpose2=dif2.reshape(1,-1)\n",
    "Sigma_det2 = np.linalg.det(Sigma2)\n",
    "Sigma_inv2 = np.linalg.inv(Sigma2)\n",
    "D2= np.sqrt((2*np.pi)**2 * Sigma_det2)\n",
    "fac1_2=np.matmul(dif_transpose2,Sigma_inv2)\n",
    "fac2_2=np.matmul(fac1_2,dif2)\n",
    "value2=np.exp(-fac2_2/2)/D2\n",
    "\n",
    "\n",
    "#initializing Distributionns\n",
    "dist1=[]\n",
    "dist2=[]\n",
    "\n",
    "\n",
    "#Adding Spatial and Temporal characteristics\n",
    "\n",
    "# Dist 1\n",
    "for i in range(0, 200):\n",
    "    if (i%2 == 0):\n",
    "        j1=i/10\n",
    "        d1=mt.e**(-j1/10)\n",
    "        dampingfac1=value1*d1\n",
    "        cosinefac1=mt.cos(2*mt.pi*0.1*j1)\n",
    "        a=value1*dampingfac1*cosinefac1\n",
    "        dist1.append(a[0,0])\n",
    "         \n",
    " \n",
    " \n",
    "#Dist 2\n",
    "for i in range(0, 200):\n",
    "    if (i%2 == 0):\n",
    "        j2=i/10\n",
    "        d2=mt.e**(-j2/15)\n",
    "        dampingfac2=value2*d2\n",
    "        cosinefac2=mt.cos(2*mt.pi*0.2*j2)\n",
    "        b=value2*dampingfac2*cosinefac2\n",
    "        dist2.append(b[0,0])\n",
    "        \n",
    "        \n",
    "SummingAll=np.add(dist1,dist2)\n",
    "SensorValu=np.multiply(1000,SummingAll)\n",
    "len(SensorValu)\n",
    "max(SensorValu)\n",
    "np.savetxt(\"ID64-gauss2.csv\", SensorValu, delimiter=\",\")\n",
    " "
   ]
  },
  {
   "cell_type": "code",
   "execution_count": null,
   "metadata": {
    "collapsed": true
   },
   "outputs": [],
   "source": []
  }
 ],
 "metadata": {
  "kernelspec": {
   "display_name": "Python 3",
   "language": "python",
   "name": "python3"
  },
  "language_info": {
   "codemirror_mode": {
    "name": "ipython",
    "version": 3
   },
   "file_extension": ".py",
   "mimetype": "text/x-python",
   "name": "python",
   "nbconvert_exporter": "python",
   "pygments_lexer": "ipython3",
   "version": "3.6.3"
  }
 },
 "nbformat": 4,
 "nbformat_minor": 2
}
